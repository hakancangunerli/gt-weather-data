{
 "cells": [
  {
   "cell_type": "code",
   "execution_count": 45,
   "metadata": {},
   "outputs": [],
   "source": [
    "#https://cdn.weatherstem.com/dashboard/data/dynamic/model/gatech/stadium/latest.json\n",
    "\n",
    "import pandas as pd\n",
    "import requests\n",
    "import json\n",
    "\n",
    "address = \"https://cdn.weatherstem.com/dashboard/data/dynamic/model/gatech/stadium/latest.json\"\n",
    "\n",
    "\n",
    "# export this json file\n",
    "with open('gt.json', 'w') as f:\n",
    "    json.dump(get_data(address), f)\n",
    "\n",
    "def get_data(address):\n",
    "    r = requests.get(address)\n",
    "    data = r.json()\n",
    "    return data\n",
    "\n",
    "df = pd.DataFrame(get_data(address))\n",
    "\n",
    "df.drop('validation_sensor', axis=1, inplace=True)"
   ]
  },
  {
   "cell_type": "code",
   "execution_count": 46,
   "metadata": {},
   "outputs": [
    {
     "data": {
      "text/html": [
       "<div>\n",
       "<style scoped>\n",
       "    .dataframe tbody tr th:only-of-type {\n",
       "        vertical-align: middle;\n",
       "    }\n",
       "\n",
       "    .dataframe tbody tr th {\n",
       "        vertical-align: top;\n",
       "    }\n",
       "\n",
       "    .dataframe thead th {\n",
       "        text-align: right;\n",
       "    }\n",
       "</style>\n",
       "<table border=\"1\" class=\"dataframe\">\n",
       "  <thead>\n",
       "    <tr style=\"text-align: right;\">\n",
       "      <th></th>\n",
       "      <th>time</th>\n",
       "      <th>records</th>\n",
       "    </tr>\n",
       "  </thead>\n",
       "  <tbody>\n",
       "    <tr>\n",
       "      <th>0</th>\n",
       "      <td>2022-12-22 17:14:00</td>\n",
       "      <td>{'value': 46.1, 'property': 'Temperature', 'un...</td>\n",
       "    </tr>\n",
       "    <tr>\n",
       "      <th>1</th>\n",
       "      <td>2022-12-22 17:14:00</td>\n",
       "      <td>{'id': 7906, 'units': '&amp;deg;F', 'sensor_name':...</td>\n",
       "    </tr>\n",
       "    <tr>\n",
       "      <th>2</th>\n",
       "      <td>2022-12-22 17:14:00</td>\n",
       "      <td>{'property': 'Temperature', 'value': 46.1, 'se...</td>\n",
       "    </tr>\n",
       "    <tr>\n",
       "      <th>3</th>\n",
       "      <td>2022-12-22 17:14:00</td>\n",
       "      <td>{'id': 7915, 'sensor_name': 'Wind Chill', 'uni...</td>\n",
       "    </tr>\n",
       "    <tr>\n",
       "      <th>4</th>\n",
       "      <td>2022-12-22 17:14:00</td>\n",
       "      <td>{'id': 7918, 'units': 'mph', 'sensor_name': 'A...</td>\n",
       "    </tr>\n",
       "    <tr>\n",
       "      <th>5</th>\n",
       "      <td>2022-12-22 17:14:00</td>\n",
       "      <td>{'id': 7922, 'units': 'mph', 'sensor_name': '1...</td>\n",
       "    </tr>\n",
       "    <tr>\n",
       "      <th>6</th>\n",
       "      <td>2022-12-22 17:14:00</td>\n",
       "      <td>{'property': 'Relative Humidity', 'value': 88....</td>\n",
       "    </tr>\n",
       "    <tr>\n",
       "      <th>7</th>\n",
       "      <td>2022-12-22 17:14:00</td>\n",
       "      <td>{'sensor_name': 'Wind Vane', 'units': '&amp;deg;',...</td>\n",
       "    </tr>\n",
       "    <tr>\n",
       "      <th>8</th>\n",
       "      <td>2022-12-22 17:14:00</td>\n",
       "      <td>{'property': 'Solar Radiation', 'value': 0, 'i...</td>\n",
       "    </tr>\n",
       "    <tr>\n",
       "      <th>9</th>\n",
       "      <td>2022-12-22 17:14:00</td>\n",
       "      <td>{'sensor_name': 'UV Radiation Sensor', 'units'...</td>\n",
       "    </tr>\n",
       "    <tr>\n",
       "      <th>10</th>\n",
       "      <td>2022-12-22 17:14:00</td>\n",
       "      <td>{'value': 0, 'property': 'Rain Rate', 'units':...</td>\n",
       "    </tr>\n",
       "    <tr>\n",
       "      <th>11</th>\n",
       "      <td>2022-12-22 17:14:00</td>\n",
       "      <td>{'id': 7946, 'units': 'in.', 'sensor_name': 'R...</td>\n",
       "    </tr>\n",
       "    <tr>\n",
       "      <th>12</th>\n",
       "      <td>2022-12-22 17:14:00</td>\n",
       "      <td>{'value': 29.838, 'property': 'Barometric Pres...</td>\n",
       "    </tr>\n",
       "    <tr>\n",
       "      <th>13</th>\n",
       "      <td>2022-12-22 17:14:00</td>\n",
       "      <td>{'property': 'Barometric Pressure Tendency', '...</td>\n",
       "    </tr>\n",
       "    <tr>\n",
       "      <th>14</th>\n",
       "      <td>2022-12-22 17:14:00</td>\n",
       "      <td>{'id': 7911, 'sensor_name': 'Wet Bulb Globe Te...</td>\n",
       "    </tr>\n",
       "    <tr>\n",
       "      <th>15</th>\n",
       "      <td>2022-12-22 17:14:00</td>\n",
       "      <td>{'units': 'in.', 'sensor_name': 'Rain: Accum s...</td>\n",
       "    </tr>\n",
       "    <tr>\n",
       "      <th>16</th>\n",
       "      <td>2022-12-22 17:14:00</td>\n",
       "      <td>{'id': 0, 'sensor_name': 'Rain: Accum this mon...</td>\n",
       "    </tr>\n",
       "    <tr>\n",
       "      <th>17</th>\n",
       "      <td>2022-12-22 17:14:00</td>\n",
       "      <td>{'id': 0, 'units': 'in.', 'sensor_name': 'Rain...</td>\n",
       "    </tr>\n",
       "    <tr>\n",
       "      <th>18</th>\n",
       "      <td>2022-12-22 17:14:00</td>\n",
       "      <td>{'sensor_name': 'Rain: Most recent storm', 'un...</td>\n",
       "    </tr>\n",
       "    <tr>\n",
       "      <th>19</th>\n",
       "      <td>2022-12-22 17:14:00</td>\n",
       "      <td>{'ignore_db': 1, 'property': 'Rainfall Data', ...</td>\n",
       "    </tr>\n",
       "    <tr>\n",
       "      <th>20</th>\n",
       "      <td>2022-12-22 17:14:00</td>\n",
       "      <td>{'value': 1.15, 'property': 'Rainfall Data', '...</td>\n",
       "    </tr>\n",
       "    <tr>\n",
       "      <th>21</th>\n",
       "      <td>2022-12-22 17:14:00</td>\n",
       "      <td>{'ignore_db': 1, 'property': 'Rainfall Data', ...</td>\n",
       "    </tr>\n",
       "    <tr>\n",
       "      <th>22</th>\n",
       "      <td>2022-12-22 17:14:00</td>\n",
       "      <td>{'property': 'Rainfall Data', 'value': '12/16/...</td>\n",
       "    </tr>\n",
       "  </tbody>\n",
       "</table>\n",
       "</div>"
      ],
      "text/plain": [
       "                   time                                            records\n",
       "0   2022-12-22 17:14:00  {'value': 46.1, 'property': 'Temperature', 'un...\n",
       "1   2022-12-22 17:14:00  {'id': 7906, 'units': '&deg;F', 'sensor_name':...\n",
       "2   2022-12-22 17:14:00  {'property': 'Temperature', 'value': 46.1, 'se...\n",
       "3   2022-12-22 17:14:00  {'id': 7915, 'sensor_name': 'Wind Chill', 'uni...\n",
       "4   2022-12-22 17:14:00  {'id': 7918, 'units': 'mph', 'sensor_name': 'A...\n",
       "5   2022-12-22 17:14:00  {'id': 7922, 'units': 'mph', 'sensor_name': '1...\n",
       "6   2022-12-22 17:14:00  {'property': 'Relative Humidity', 'value': 88....\n",
       "7   2022-12-22 17:14:00  {'sensor_name': 'Wind Vane', 'units': '&deg;',...\n",
       "8   2022-12-22 17:14:00  {'property': 'Solar Radiation', 'value': 0, 'i...\n",
       "9   2022-12-22 17:14:00  {'sensor_name': 'UV Radiation Sensor', 'units'...\n",
       "10  2022-12-22 17:14:00  {'value': 0, 'property': 'Rain Rate', 'units':...\n",
       "11  2022-12-22 17:14:00  {'id': 7946, 'units': 'in.', 'sensor_name': 'R...\n",
       "12  2022-12-22 17:14:00  {'value': 29.838, 'property': 'Barometric Pres...\n",
       "13  2022-12-22 17:14:00  {'property': 'Barometric Pressure Tendency', '...\n",
       "14  2022-12-22 17:14:00  {'id': 7911, 'sensor_name': 'Wet Bulb Globe Te...\n",
       "15  2022-12-22 17:14:00  {'units': 'in.', 'sensor_name': 'Rain: Accum s...\n",
       "16  2022-12-22 17:14:00  {'id': 0, 'sensor_name': 'Rain: Accum this mon...\n",
       "17  2022-12-22 17:14:00  {'id': 0, 'units': 'in.', 'sensor_name': 'Rain...\n",
       "18  2022-12-22 17:14:00  {'sensor_name': 'Rain: Most recent storm', 'un...\n",
       "19  2022-12-22 17:14:00  {'ignore_db': 1, 'property': 'Rainfall Data', ...\n",
       "20  2022-12-22 17:14:00  {'value': 1.15, 'property': 'Rainfall Data', '...\n",
       "21  2022-12-22 17:14:00  {'ignore_db': 1, 'property': 'Rainfall Data', ...\n",
       "22  2022-12-22 17:14:00  {'property': 'Rainfall Data', 'value': '12/16/..."
      ]
     },
     "execution_count": 46,
     "metadata": {},
     "output_type": "execute_result"
    }
   ],
   "source": [
    "df"
   ]
  },
  {
   "cell_type": "code",
   "execution_count": 47,
   "metadata": {},
   "outputs": [
    {
     "data": {
      "text/plain": [
       "46.1"
      ]
     },
     "execution_count": 47,
     "metadata": {},
     "output_type": "execute_result"
    }
   ],
   "source": [
    "# get temperature \n",
    "df['records'][0].get('value')"
   ]
  },
  {
   "cell_type": "code",
   "execution_count": 49,
   "metadata": {},
   "outputs": [
    {
     "data": {
      "text/html": [
       "<img src=\"https://gatech.weatherstem.com/skycamera/gatech/stadium/gatechsw/snapshot.jpg\" width=\"250\"/>"
      ],
      "text/plain": [
       "<IPython.core.display.Image object>"
      ]
     },
     "metadata": {},
     "output_type": "display_data"
    },
    {
     "data": {
      "text/html": [
       "<img src=\"https://gatech.weatherstem.com/skycamera/gatech/stadium/gatecheast/snapshot.jpg\" width=\"250\"/>"
      ],
      "text/plain": [
       "<IPython.core.display.Image object>"
      ]
     },
     "metadata": {},
     "output_type": "display_data"
    },
    {
     "data": {
      "text/html": [
       "<img src=\"https://gatech.weatherstem.com/skycamera/gatech/stadium/cumulus/snapshot.jpg\" width=\"250\"/>"
      ],
      "text/plain": [
       "<IPython.core.display.Image object>"
      ]
     },
     "metadata": {},
     "output_type": "display_data"
    }
   ],
   "source": [
    "# we have three cameras in the stadium, gatechsw, gatecheast, and cumulus\n",
    "# https://gatech.weatherstem.com/skycamera/gatech/stadium/cumulus/snapshot.jpg\n",
    "# https://gatech.weatherstem.com/skycamera/gatech/stadium/gatecheast/snapshot.jpg\n",
    "\n",
    "cameras = ['gatechsw', 'gatecheast', 'cumulus']\n",
    "\n",
    "pictures = []\n",
    "\n",
    "for camera in cameras:\n",
    "    pictures.append(f\"https://gatech.weatherstem.com/skycamera/gatech/stadium/{camera}/snapshot.jpg\")\n",
    "\n",
    "\n",
    "# show the pictures side by side\n",
    "from IPython.display import Image, display\n",
    "\n",
    "for picture in pictures:\n",
    "    display(Image(url=picture, width=250))\n",
    "    # export images \n",
    "    open (f\"{picture.split('/')[-2]}.jpg\", 'wb').write(requests.get(picture).content)"
   ]
  }
 ],
 "metadata": {
  "kernelspec": {
   "display_name": "base",
   "language": "python",
   "name": "python3"
  },
  "language_info": {
   "codemirror_mode": {
    "name": "ipython",
    "version": 3
   },
   "file_extension": ".py",
   "mimetype": "text/x-python",
   "name": "python",
   "nbconvert_exporter": "python",
   "pygments_lexer": "ipython3",
   "version": "3.9.13"
  },
  "orig_nbformat": 4,
  "vscode": {
   "interpreter": {
    "hash": "f5f61564bdc7f53415b2b505550c56a4073778d531a25cde85da04c84ebb0b38"
   }
  }
 },
 "nbformat": 4,
 "nbformat_minor": 2
}
