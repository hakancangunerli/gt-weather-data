{
 "cells": [
  {
   "cell_type": "code",
   "execution_count": 45,
   "metadata": {},
   "outputs": [],
   "source": [
    "#https://cdn.weatherstem.com/dashboard/data/dynamic/model/gatech/stadium/latest.json\n",
    "\n",
    "import pandas as pd\n",
    "import requests\n",
    "import json\n",
    "\n",
    "address = \"https://cdn.weatherstem.com/dashboard/data/dynamic/model/gatech/stadium/latest.json\"\n",
    "\n",
    "\n",
    "# export this json file\n",
    "with open('gt.json', 'w') as f:\n",
    "    json.dump(get_data(address), f)\n",
    "\n",
    "def get_data(address):\n",
    "    r = requests.get(address)\n",
    "    data = r.json()\n",
    "    return data\n",
    "\n",
    "df = pd.DataFrame(get_data(address))\n",
    "\n",
    "df.drop('validation_sensor', axis=1, inplace=True)"
   ]
  },
  {
   "cell_type": "code",
   "execution_count": 54,
   "metadata": {},
   "outputs": [
    {
     "data": {
      "text/plain": [
       "time       object\n",
       "records    object\n",
       "dtype: object"
      ]
     },
     "execution_count": 54,
     "metadata": {},
     "output_type": "execute_result"
    }
   ],
   "source": []
  },
  {
   "cell_type": "code",
   "execution_count": 47,
   "metadata": {},
   "outputs": [
    {
     "data": {
      "text/plain": [
       "46.1"
      ]
     },
     "execution_count": 47,
     "metadata": {},
     "output_type": "execute_result"
    }
   ],
   "source": [
    "# get temperature \n",
    "df['records'][0].get('value')"
   ]
  },
  {
   "cell_type": "code",
   "execution_count": 49,
   "metadata": {},
   "outputs": [
    {
     "data": {
      "text/html": [
       "<img src=\"https://gatech.weatherstem.com/skycamera/gatech/stadium/gatechsw/snapshot.jpg\" width=\"250\"/>"
      ],
      "text/plain": [
       "<IPython.core.display.Image object>"
      ]
     },
     "metadata": {},
     "output_type": "display_data"
    },
    {
     "data": {
      "text/html": [
       "<img src=\"https://gatech.weatherstem.com/skycamera/gatech/stadium/gatecheast/snapshot.jpg\" width=\"250\"/>"
      ],
      "text/plain": [
       "<IPython.core.display.Image object>"
      ]
     },
     "metadata": {},
     "output_type": "display_data"
    },
    {
     "data": {
      "text/html": [
       "<img src=\"https://gatech.weatherstem.com/skycamera/gatech/stadium/cumulus/snapshot.jpg\" width=\"250\"/>"
      ],
      "text/plain": [
       "<IPython.core.display.Image object>"
      ]
     },
     "metadata": {},
     "output_type": "display_data"
    }
   ],
   "source": [
    "# we have three cameras in the stadium, gatechsw, gatecheast, and cumulus\n",
    "# https://gatech.weatherstem.com/skycamera/gatech/stadium/cumulus/snapshot.jpg\n",
    "# https://gatech.weatherstem.com/skycamera/gatech/stadium/gatecheast/snapshot.jpg\n",
    "\n",
    "cameras = ['gatechsw', 'gatecheast', 'cumulus']\n",
    "\n",
    "pictures = []\n",
    "\n",
    "for camera in cameras:\n",
    "    pictures.append(f\"https://gatech.weatherstem.com/skycamera/gatech/stadium/{camera}/snapshot.jpg\")\n",
    "\n",
    "\n",
    "# show the pictures side by side\n",
    "from IPython.display import Image, display\n",
    "\n",
    "for picture in pictures:\n",
    "    display(Image(url=picture, width=250))\n",
    "    # export images \n",
    "    open (f\"{picture.split('/')[-2]}.jpg\", 'wb').write(requests.get(picture).content)"
   ]
  }
 ],
 "metadata": {
  "kernelspec": {
   "display_name": "base",
   "language": "python",
   "name": "python3"
  },
  "language_info": {
   "codemirror_mode": {
    "name": "ipython",
    "version": 3
   },
   "file_extension": ".py",
   "mimetype": "text/x-python",
   "name": "python",
   "nbconvert_exporter": "python",
   "pygments_lexer": "ipython3",
   "version": "3.9.13"
  },
  "orig_nbformat": 4,
  "vscode": {
   "interpreter": {
    "hash": "f5f61564bdc7f53415b2b505550c56a4073778d531a25cde85da04c84ebb0b38"
   }
  }
 },
 "nbformat": 4,
 "nbformat_minor": 2
}
